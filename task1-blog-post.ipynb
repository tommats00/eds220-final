{
 "cells": [
  {
   "cell_type": "markdown",
   "id": "e6d43889-c5af-4359-abe2-2cc6a1cfbf72",
   "metadata": {},
   "source": [
    "# Thomas Fire Analysis\n",
    "\n",
    "#### Author: Tom Gibbens-Matsuyama (tommats00@github.io)\n",
    "- This notebook is part of my Thomas Fire analysis [github repository](https://github.com/tommats00/eds220-final) \n",
    "\n",
    "Image: ![Thomas Fire 2017](https://media.gettyimages.com/id/886375862/photo/ventura-county-fire.jpg?s=612x612&w=gi&k=20&c=Te_tMpB-C35EhGdmCqRGdwYvo1kPQ-yVeESXMY1gX7M=)\n",
    "\n",
    "Image Credits: Marcus Yam"
   ]
  },
  {
   "cell_type": "markdown",
   "id": "319479e9-b14d-412d-ac48-bde148bdff56",
   "metadata": {},
   "source": [
    "# About\n",
    "\n",
    "### Purpose\n",
    "Paragraph\n",
    "\n",
    "\n",
    "### Highlights of analysis:\n",
    "- 1\n",
    "- 2\n",
    "- 3\n",
    "- 4\n",
    "- 5\n",
    "- 6\n",
    "- 7\n",
    "- 8\n",
    "\n",
    "### Dataset descriptions:\n",
    "\n",
    "#### AQI Data\n",
    "- 1\n",
    "- 2\n",
    "\n",
    "#### Landsat Collection 2 Level-2 data from Landsat 8 \n",
    "- 1\n",
    "- 2\n",
    "\n",
    "#### References & data sources\n",
    "\n"
   ]
  },
  {
   "cell_type": "markdown",
   "id": "769c78dd-ec93-4308-a3b7-ba55853ced15",
   "metadata": {},
   "source": [
    "## Data analysis sections\n",
    "- break the analyssi into logical sections\n",
    "- include only the most relevant code\n",
    "- aim for clean, proessional layout with properly formatted code snippets and images "
   ]
  },
  {
   "cell_type": "markdown",
   "id": "49a6f228-5f43-422b-9187-bc3e8800f977",
   "metadata": {},
   "source": [
    "### Final visualizations\n",
    "- Showcase your main visualizations with clear captions. "
   ]
  },
  {
   "cell_type": "code",
   "execution_count": null,
   "id": "42a0ee7d-3b9e-423a-8c51-de964174b0e0",
   "metadata": {},
   "outputs": [],
   "source": []
  }
 ],
 "metadata": {
  "kernelspec": {
   "display_name": "Anaconda 3 (EDS220)",
   "language": "python",
   "name": "eds220-env"
  },
  "language_info": {
   "codemirror_mode": {
    "name": "ipython",
    "version": 3
   },
   "file_extension": ".py",
   "mimetype": "text/x-python",
   "name": "python",
   "nbconvert_exporter": "python",
   "pygments_lexer": "ipython3",
   "version": "3.11.4"
  }
 },
 "nbformat": 4,
 "nbformat_minor": 5
}
