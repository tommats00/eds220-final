{
 "cells": [
  {
   "cell_type": "markdown",
   "metadata": {},
   "source": [
    "\n",
    "### Analysis of the 2017 Thomas Fire\n",
    "\n",
    "Author: Tom Gibbens-Matsuyama (tommats00\\@github.io)\n",
    "\n",
    "-   This repository contains the rest of my analysis [github repository](https://github.com/tommats00/eds220-final)\n",
    "\n",
    "<img src=\"https://camo.githubusercontent.com/eb96c7e74feb1cad555d796e03bf71e25a4f38058ba619e1e4da5c6a8d86330d/68747470733a2f2f7777772e6c6965666663616272617365722e636f6d2f77702d636f6e74656e742f75706c6f6164732f77696c64666972652d736c6964652d3530302e6a7067\" alt=\"Thomas Fire 2017\">\n",
    "\n",
    "Image Credits: Carsten Shertzer \\| Getty Images\n",
    "\n",
    "# About\n",
    "\n",
    "### Purpose\n",
    "\n",
    "In December of 2017, one of California's largest wildfires burned over 280,000 acres of land in Ventura and Santa Barbara counties. The purpose of this analysis is to do the following: visualize how the Air Quality Index (AQI) was effected in Santa Barbara County and produce a false color image containing the Thomas Fire boundary.\n",
    "\n",
    "### Highlights of analysis:\n",
    "\n",
    "-   Use `pandas` to read in tabular data\n",
    "-   Use `rioxarray` and `geopandas` to read in spatial data\n",
    "-   Read data from a link and local source\n",
    "-   Filter and transform vector data types with `pandas`\n",
    "-   Filter and transform spatial data with `rioxarray` and `geopandas`\n",
    "-   Visualize filtered AQI data\n",
    "-   Visualize filtered landsat and boundary data\n",
    "\n",
    "## Dataset descriptions:\n",
    "\n",
    "#### AQI Data\n",
    "\n",
    "[AQI data](https://www.airnow.gov/aqi/aqi-basics/) from the [US Environmental Protection Agency (EPA)](https://www.epa.gov/) will be used to visualize the impact of the 2017 Thomas Fire in Santa Barabra County. This data comes from the [pre-generated data files](https://aqs.epa.gov/aqsweb/airdata/download_files.html). These files are updated twice a year, once in June to capture the entire previous year and once in December to capture the Summer.\n",
    "\n",
    "#### Landsat Collection 2 Level-2 data from Landsat 8\n",
    "\n",
    "This dataset is a collection of bands from the Landsat Collection 2 Level-2 collected by the Landsat 8 satellite. This data was taken from the [Microsof Planetary Computer data catalogue](https://planetarycomputer.microsoft.com/dataset/landsat-c2-l2) and pre-processed for our use.\n",
    "\n",
    "#### California Fire Perimeters\n",
    "\n",
    "The second dataset is a pre-processed geospatial data frame from [Data.gov](https://catalog.data.gov/dataset/california-fire-perimeters-all-b3436). This dataset contains the Thomas Fire perimeter data.\n",
    "\n",
    "#### References & data sources\n",
    "\n",
    "AQI Data: Available from: \\[(https://aqs.epa.gov/aqsweb/airdata/download_files.html#AQI.)\\] Access date: October 23, 2024\n",
    "\n",
    "Microsoft Planetary Computer Data Catalogue, Landsat collection 2 Level-2. Available from: \\[(https://planetarycomputer.microsoft.com/dataset/landsat-c2-l2.)\\] Access date: November 19, 2024.\n",
    "\n",
    "Data.gov Data Catalogue, California Fire Perimeters (all). Available from: \\[(https://catalog.data.gov/dataset/california-fire-perimeters-all-b3436.)\\] Access date: November 19, 2024.\n",
    "\n",
    "#### Ackowledgements\n",
    "Materials created by [Carmen Galaz-Garcia](https://github.com/carmengg) for EDS-220: [Working with Environmental Data](https://meds-eds-220.github.io/MEDS-eds-220-course/)\n",
    "\n",
    "### Load libraries"
   ]
  },
  {
   "cell_type": "code",
   "execution_count": 1,
   "metadata": {},
   "outputs": [],
   "source": [
    "#| code-fold: true\n",
    "#| code-summary: \"Show the code\"\n",
    "#| \n",
    "# Core library\n",
    "import pandas as pd \n",
    "\n",
    "# For loading in geospatial data\n",
    "import geopandas as gpd\n",
    "import rioxarray as rioxr\n",
    "\n",
    "# For plotting \n",
    "import matplotlib.pyplot as plt"
   ]
  },
  {
   "cell_type": "markdown",
   "metadata": {},
   "source": [
    "### Load data"
   ]
  },
  {
   "cell_type": "code",
   "execution_count": 2,
   "metadata": {},
   "outputs": [
    {
     "ename": "RasterioIOError",
     "evalue": "data/landsat8-2018-01-26-sb-simplified.nc: No such file or directory",
     "output_type": "error",
     "traceback": [
      "\u001b[1;31m---------------------------------------------------------------------------\u001b[0m",
      "\u001b[1;31mKeyError\u001b[0m                                  Traceback (most recent call last)",
      "File \u001b[1;32mc:\\Users\\thoma\\.conda\\envs\\eds220-env\\Lib\\site-packages\\xarray\\backends\\file_manager.py:211\u001b[0m, in \u001b[0;36mCachingFileManager._acquire_with_cache_info\u001b[1;34m(self, needs_lock)\u001b[0m\n\u001b[0;32m    210\u001b[0m \u001b[38;5;28;01mtry\u001b[39;00m:\n\u001b[1;32m--> 211\u001b[0m     file \u001b[38;5;241m=\u001b[39m \u001b[38;5;28;43mself\u001b[39;49m\u001b[38;5;241;43m.\u001b[39;49m\u001b[43m_cache\u001b[49m\u001b[43m[\u001b[49m\u001b[38;5;28;43mself\u001b[39;49m\u001b[38;5;241;43m.\u001b[39;49m\u001b[43m_key\u001b[49m\u001b[43m]\u001b[49m\n\u001b[0;32m    212\u001b[0m \u001b[38;5;28;01mexcept\u001b[39;00m \u001b[38;5;167;01mKeyError\u001b[39;00m:\n",
      "File \u001b[1;32mc:\\Users\\thoma\\.conda\\envs\\eds220-env\\Lib\\site-packages\\xarray\\backends\\lru_cache.py:56\u001b[0m, in \u001b[0;36mLRUCache.__getitem__\u001b[1;34m(self, key)\u001b[0m\n\u001b[0;32m     55\u001b[0m \u001b[38;5;28;01mwith\u001b[39;00m \u001b[38;5;28mself\u001b[39m\u001b[38;5;241m.\u001b[39m_lock:\n\u001b[1;32m---> 56\u001b[0m     value \u001b[38;5;241m=\u001b[39m \u001b[38;5;28;43mself\u001b[39;49m\u001b[38;5;241;43m.\u001b[39;49m\u001b[43m_cache\u001b[49m\u001b[43m[\u001b[49m\u001b[43mkey\u001b[49m\u001b[43m]\u001b[49m\n\u001b[0;32m     57\u001b[0m     \u001b[38;5;28mself\u001b[39m\u001b[38;5;241m.\u001b[39m_cache\u001b[38;5;241m.\u001b[39mmove_to_end(key)\n",
      "\u001b[1;31mKeyError\u001b[0m: [<function open at 0x0000018B272A2020>, ('data/landsat8-2018-01-26-sb-simplified.nc',), 'r', (('sharing', False),), '65be017c-7566-4195-8241-fec57f58f601']",
      "\nDuring handling of the above exception, another exception occurred:\n",
      "\u001b[1;31mCPLE_OpenFailedError\u001b[0m                      Traceback (most recent call last)",
      "File \u001b[1;32mrasterio\\\\_base.pyx:310\u001b[0m, in \u001b[0;36mrasterio._base.DatasetBase.__init__\u001b[1;34m()\u001b[0m\n",
      "File \u001b[1;32mrasterio\\\\_base.pyx:221\u001b[0m, in \u001b[0;36mrasterio._base.open_dataset\u001b[1;34m()\u001b[0m\n",
      "File \u001b[1;32mrasterio\\\\_err.pyx:359\u001b[0m, in \u001b[0;36mrasterio._err.exc_wrap_pointer\u001b[1;34m()\u001b[0m\n",
      "\u001b[1;31mCPLE_OpenFailedError\u001b[0m: data/landsat8-2018-01-26-sb-simplified.nc: No such file or directory",
      "\nDuring handling of the above exception, another exception occurred:\n",
      "\u001b[1;31mRasterioIOError\u001b[0m                           Traceback (most recent call last)",
      "Cell \u001b[1;32mIn[2], line 9\u001b[0m\n\u001b[0;32m      6\u001b[0m aqi_18 \u001b[38;5;241m=\u001b[39m pd\u001b[38;5;241m.\u001b[39mread_csv(\u001b[38;5;124m'\u001b[39m\u001b[38;5;124mhttps://aqs.epa.gov/aqsweb/airdata/daily_aqi_by_county_2018.zip\u001b[39m\u001b[38;5;124m'\u001b[39m, compression\u001b[38;5;241m=\u001b[39m\u001b[38;5;124m'\u001b[39m\u001b[38;5;124mzip\u001b[39m\u001b[38;5;124m'\u001b[39m)\n\u001b[0;32m      8\u001b[0m \u001b[38;5;66;03m# Load data from the file path\u001b[39;00m\n\u001b[1;32m----> 9\u001b[0m landsat \u001b[38;5;241m=\u001b[39m \u001b[43mrioxr\u001b[49m\u001b[38;5;241;43m.\u001b[39;49m\u001b[43mopen_rasterio\u001b[49m\u001b[43m(\u001b[49m\u001b[38;5;124;43m'\u001b[39;49m\u001b[38;5;124;43mdata/landsat8-2018-01-26-sb-simplified.nc\u001b[39;49m\u001b[38;5;124;43m'\u001b[39;49m\u001b[43m)\u001b[49m\n\u001b[0;32m     11\u001b[0m \u001b[38;5;66;03m# Load in California fires perimeter data, downloaded locally \u001b[39;00m\n\u001b[0;32m     12\u001b[0m perimeters \u001b[38;5;241m=\u001b[39m gpd\u001b[38;5;241m.\u001b[39mread_file(\u001b[38;5;124m'\u001b[39m\u001b[38;5;124mdata/California_Fire_Perimeters/California_Fire_Perimeters_(all).shp\u001b[39m\u001b[38;5;124m'\u001b[39m)\n",
      "File \u001b[1;32mc:\\Users\\thoma\\.conda\\envs\\eds220-env\\Lib\\site-packages\\rioxarray\\_io.py:1124\u001b[0m, in \u001b[0;36mopen_rasterio\u001b[1;34m(filename, parse_coordinates, chunks, cache, lock, masked, mask_and_scale, variable, group, default_name, decode_times, decode_timedelta, band_as_variable, **open_kwargs)\u001b[0m\n\u001b[0;32m   1122\u001b[0m     \u001b[38;5;28;01melse\u001b[39;00m:\n\u001b[0;32m   1123\u001b[0m         manager \u001b[38;5;241m=\u001b[39m URIManager(file_opener, filename, mode\u001b[38;5;241m=\u001b[39m\u001b[38;5;124m\"\u001b[39m\u001b[38;5;124mr\u001b[39m\u001b[38;5;124m\"\u001b[39m, kwargs\u001b[38;5;241m=\u001b[39mopen_kwargs)\n\u001b[1;32m-> 1124\u001b[0m     riods \u001b[38;5;241m=\u001b[39m \u001b[43mmanager\u001b[49m\u001b[38;5;241;43m.\u001b[39;49m\u001b[43macquire\u001b[49m\u001b[43m(\u001b[49m\u001b[43m)\u001b[49m\n\u001b[0;32m   1125\u001b[0m     captured_warnings \u001b[38;5;241m=\u001b[39m rio_warnings\u001b[38;5;241m.\u001b[39mcopy()\n\u001b[0;32m   1127\u001b[0m \u001b[38;5;66;03m# raise the NotGeoreferencedWarning if applicable\u001b[39;00m\n",
      "File \u001b[1;32mc:\\Users\\thoma\\.conda\\envs\\eds220-env\\Lib\\site-packages\\xarray\\backends\\file_manager.py:193\u001b[0m, in \u001b[0;36mCachingFileManager.acquire\u001b[1;34m(self, needs_lock)\u001b[0m\n\u001b[0;32m    178\u001b[0m \u001b[38;5;28;01mdef\u001b[39;00m \u001b[38;5;21macquire\u001b[39m(\u001b[38;5;28mself\u001b[39m, needs_lock\u001b[38;5;241m=\u001b[39m\u001b[38;5;28;01mTrue\u001b[39;00m):\n\u001b[0;32m    179\u001b[0m \u001b[38;5;250m    \u001b[39m\u001b[38;5;124;03m\"\"\"Acquire a file object from the manager.\u001b[39;00m\n\u001b[0;32m    180\u001b[0m \n\u001b[0;32m    181\u001b[0m \u001b[38;5;124;03m    A new file is only opened if it has expired from the\u001b[39;00m\n\u001b[1;32m   (...)\u001b[0m\n\u001b[0;32m    191\u001b[0m \u001b[38;5;124;03m        An open file object, as returned by ``opener(*args, **kwargs)``.\u001b[39;00m\n\u001b[0;32m    192\u001b[0m \u001b[38;5;124;03m    \"\"\"\u001b[39;00m\n\u001b[1;32m--> 193\u001b[0m     file, _ \u001b[38;5;241m=\u001b[39m \u001b[38;5;28;43mself\u001b[39;49m\u001b[38;5;241;43m.\u001b[39;49m\u001b[43m_acquire_with_cache_info\u001b[49m\u001b[43m(\u001b[49m\u001b[43mneeds_lock\u001b[49m\u001b[43m)\u001b[49m\n\u001b[0;32m    194\u001b[0m     \u001b[38;5;28;01mreturn\u001b[39;00m file\n",
      "File \u001b[1;32mc:\\Users\\thoma\\.conda\\envs\\eds220-env\\Lib\\site-packages\\xarray\\backends\\file_manager.py:217\u001b[0m, in \u001b[0;36mCachingFileManager._acquire_with_cache_info\u001b[1;34m(self, needs_lock)\u001b[0m\n\u001b[0;32m    215\u001b[0m     kwargs \u001b[38;5;241m=\u001b[39m kwargs\u001b[38;5;241m.\u001b[39mcopy()\n\u001b[0;32m    216\u001b[0m     kwargs[\u001b[38;5;124m\"\u001b[39m\u001b[38;5;124mmode\u001b[39m\u001b[38;5;124m\"\u001b[39m] \u001b[38;5;241m=\u001b[39m \u001b[38;5;28mself\u001b[39m\u001b[38;5;241m.\u001b[39m_mode\n\u001b[1;32m--> 217\u001b[0m file \u001b[38;5;241m=\u001b[39m \u001b[38;5;28;43mself\u001b[39;49m\u001b[38;5;241;43m.\u001b[39;49m\u001b[43m_opener\u001b[49m\u001b[43m(\u001b[49m\u001b[38;5;241;43m*\u001b[39;49m\u001b[38;5;28;43mself\u001b[39;49m\u001b[38;5;241;43m.\u001b[39;49m\u001b[43m_args\u001b[49m\u001b[43m,\u001b[49m\u001b[43m \u001b[49m\u001b[38;5;241;43m*\u001b[39;49m\u001b[38;5;241;43m*\u001b[39;49m\u001b[43mkwargs\u001b[49m\u001b[43m)\u001b[49m\n\u001b[0;32m    218\u001b[0m \u001b[38;5;28;01mif\u001b[39;00m \u001b[38;5;28mself\u001b[39m\u001b[38;5;241m.\u001b[39m_mode \u001b[38;5;241m==\u001b[39m \u001b[38;5;124m\"\u001b[39m\u001b[38;5;124mw\u001b[39m\u001b[38;5;124m\"\u001b[39m:\n\u001b[0;32m    219\u001b[0m     \u001b[38;5;66;03m# ensure file doesn't get overridden when opened again\u001b[39;00m\n\u001b[0;32m    220\u001b[0m     \u001b[38;5;28mself\u001b[39m\u001b[38;5;241m.\u001b[39m_mode \u001b[38;5;241m=\u001b[39m \u001b[38;5;124m\"\u001b[39m\u001b[38;5;124ma\u001b[39m\u001b[38;5;124m\"\u001b[39m\n",
      "File \u001b[1;32mc:\\Users\\thoma\\.conda\\envs\\eds220-env\\Lib\\site-packages\\rasterio\\env.py:463\u001b[0m, in \u001b[0;36mensure_env_with_credentials.<locals>.wrapper\u001b[1;34m(*args, **kwds)\u001b[0m\n\u001b[0;32m    460\u001b[0m     session \u001b[38;5;241m=\u001b[39m DummySession()\n\u001b[0;32m    462\u001b[0m \u001b[38;5;28;01mwith\u001b[39;00m env_ctor(session\u001b[38;5;241m=\u001b[39msession):\n\u001b[1;32m--> 463\u001b[0m     \u001b[38;5;28;01mreturn\u001b[39;00m \u001b[43mf\u001b[49m\u001b[43m(\u001b[49m\u001b[38;5;241;43m*\u001b[39;49m\u001b[43margs\u001b[49m\u001b[43m,\u001b[49m\u001b[43m \u001b[49m\u001b[38;5;241;43m*\u001b[39;49m\u001b[38;5;241;43m*\u001b[39;49m\u001b[43mkwds\u001b[49m\u001b[43m)\u001b[49m\n",
      "File \u001b[1;32mc:\\Users\\thoma\\.conda\\envs\\eds220-env\\Lib\\site-packages\\rasterio\\__init__.py:355\u001b[0m, in \u001b[0;36mopen\u001b[1;34m(fp, mode, driver, width, height, count, crs, transform, dtype, nodata, sharing, opener, **kwargs)\u001b[0m\n\u001b[0;32m    352\u001b[0m     path \u001b[38;5;241m=\u001b[39m _parse_path(raw_dataset_path)\n\u001b[0;32m    354\u001b[0m \u001b[38;5;28;01mif\u001b[39;00m mode \u001b[38;5;241m==\u001b[39m \u001b[38;5;124m\"\u001b[39m\u001b[38;5;124mr\u001b[39m\u001b[38;5;124m\"\u001b[39m:\n\u001b[1;32m--> 355\u001b[0m     dataset \u001b[38;5;241m=\u001b[39m \u001b[43mDatasetReader\u001b[49m\u001b[43m(\u001b[49m\u001b[43mpath\u001b[49m\u001b[43m,\u001b[49m\u001b[43m \u001b[49m\u001b[43mdriver\u001b[49m\u001b[38;5;241;43m=\u001b[39;49m\u001b[43mdriver\u001b[49m\u001b[43m,\u001b[49m\u001b[43m \u001b[49m\u001b[43msharing\u001b[49m\u001b[38;5;241;43m=\u001b[39;49m\u001b[43msharing\u001b[49m\u001b[43m,\u001b[49m\u001b[43m \u001b[49m\u001b[38;5;241;43m*\u001b[39;49m\u001b[38;5;241;43m*\u001b[39;49m\u001b[43mkwargs\u001b[49m\u001b[43m)\u001b[49m\n\u001b[0;32m    356\u001b[0m \u001b[38;5;28;01melif\u001b[39;00m mode \u001b[38;5;241m==\u001b[39m \u001b[38;5;124m\"\u001b[39m\u001b[38;5;124mr+\u001b[39m\u001b[38;5;124m\"\u001b[39m:\n\u001b[0;32m    357\u001b[0m     dataset \u001b[38;5;241m=\u001b[39m get_writer_for_path(path, driver\u001b[38;5;241m=\u001b[39mdriver)(\n\u001b[0;32m    358\u001b[0m         path, mode, driver\u001b[38;5;241m=\u001b[39mdriver, sharing\u001b[38;5;241m=\u001b[39msharing, \u001b[38;5;241m*\u001b[39m\u001b[38;5;241m*\u001b[39mkwargs\n\u001b[0;32m    359\u001b[0m     )\n",
      "File \u001b[1;32mrasterio\\\\_base.pyx:312\u001b[0m, in \u001b[0;36mrasterio._base.DatasetBase.__init__\u001b[1;34m()\u001b[0m\n",
      "\u001b[1;31mRasterioIOError\u001b[0m: data/landsat8-2018-01-26-sb-simplified.nc: No such file or directory"
     ]
    }
   ],
   "source": [
    "#| code-fold: true\n",
    "#| code-summary: \"Show the code\"\n",
    "\n",
    "# Load in AQI data for 2017 and 2018 via a link\n",
    "aqi_17 = pd.read_csv('https://aqs.epa.gov/aqsweb/airdata/daily_aqi_by_county_2017.zip', compression='zip')\n",
    "aqi_18 = pd.read_csv('https://aqs.epa.gov/aqsweb/airdata/daily_aqi_by_county_2018.zip', compression='zip')\n",
    "\n",
    "# Load data from the file path\n",
    "landsat = rioxr.open_rasterio('data/landsat8-2018-01-26-sb-simplified.nc')\n",
    "\n",
    "# Load in California fires perimeter data, downloaded locally \n",
    "perimeters = gpd.read_file('data/California_Fire_Perimeters/California_Fire_Perimeters_(all).shp')"
   ]
  },
  {
   "cell_type": "markdown",
   "metadata": {},
   "source": [
    "## Santa Barbara county AQI data\n",
    "\n",
    "#### Preliminary Exploration\n",
    "\n",
    "When working with any type of data, the first thing we should do is some preliminary exploration. Since the AQI is a tabular dataset, we can use methods such as `head` and `info` for both of our dataframes. This is a great way of viewing our data if you have no other indication of the type of data you are working with."
   ]
  },
  {
   "cell_type": "code",
   "execution_count": null,
   "metadata": {},
   "outputs": [],
   "source": [
    "# Print head for 2017 AQI\n",
    "aqi_17.head(3)"
   ]
  },
  {
   "cell_type": "code",
   "execution_count": null,
   "metadata": {},
   "outputs": [],
   "source": [
    "# Print head for 2018 AQI\n",
    "aqi_18.head(3)"
   ]
  },
  {
   "cell_type": "markdown",
   "metadata": {},
   "source": [
    "## Data cleaning\n",
    "\n",
    "Now that we have done some prelimnary exploration of our data, we have an idea of what we are working with. Now, we can clean the data for best practices and filter down to answer our question. Going back to our purpose, we want to visualize the impact of the 2017 Thomas Fire on the AQI in Santa Barbara county. To visualize this question, we want to filter down to columns AQI and Date."
   ]
  },
  {
   "cell_type": "code",
   "execution_count": null,
   "metadata": {},
   "outputs": [],
   "source": [
    "#| code-fold: true\n",
    "#| code-summary: \"Show the code\"\n",
    "\n",
    "# Use `pd.concat` to combine the two data sets on top of each other\n",
    "aqi = pd.concat([aqi_17, aqi_18])\n",
    "\n",
    "# Simplify column names to lower_snake_case\n",
    "aqi.columns = (aqi.columns\n",
    "                  .str.lower()\n",
    "                  .str.replace(' ','_')\n",
    "                )\n",
    "\n",
    "# Filter data to only Santa Barbara county\n",
    "aqi_sb = aqi[aqi['county_name'] == 'Santa Barbara']\n",
    "\n",
    "# Drop unwanted columns in data frame\n",
    "aqi_sb = aqi_sb.drop(columns=['state_name', 'county_name', 'state_code', 'county_code', 'number_of_sites_reporting'])\n",
    "\n",
    "# Change date column to a datetime\n",
    "aqi_sb.date = pd.to_datetime(aqi_sb['date'])\n",
    "\n",
    "# Set the index to the data column\n",
    "aqi_sb = aqi_sb.set_index('date')"
   ]
  },
  {
   "cell_type": "markdown",
   "metadata": {},
   "source": [
    "## AQI Data Analysis and Visualization\n",
    "\n",
    "The data is now prepped to be plotted, but our plot would only in how AQI has changed over time. It would be intersting to add another line to our plot to add some more information. We can add a \"five day average\" by using the `rolling` method. - The `rolling` method computes a moving average - `5D` as our argument indicates a 5 day moving average - Providing `mean` after `rolling` indicates that we want the mean every 5 days"
   ]
  },
  {
   "cell_type": "code",
   "execution_count": null,
   "metadata": {},
   "outputs": [],
   "source": [
    "# Create a five day rolling average column of AQI\n",
    "aqi_sb['five_day_average'] = aqi_sb['aqi'].rolling('5D').mean()"
   ]
  },
  {
   "cell_type": "markdown",
   "metadata": {},
   "source": [
    "Our data is now ready to be plotted. Let's plot over AQI and five day average over time"
   ]
  },
  {
   "cell_type": "code",
   "execution_count": null,
   "metadata": {},
   "outputs": [],
   "source": [
    "#| code-fold: true\n",
    "#| code-summary: \"Show the code\"\n",
    "\n",
    "# Initialize empyt figure and axis\n",
    "fig, ax = plt.subplots()\n",
    "\n",
    "# Plot a df on the ax axis\n",
    "aqi_sb.plot(ax=ax)\n",
    "\n",
    "ax.set_title('AQI value and its five day average from 2017-2018 in Santa Barbara County')\n",
    "ax.set_xlabel('Date')\n",
    "ax.set_ylabel('Air Quality Index (AQI) Value')\n",
    "\n",
    "# Change legend variable names\n",
    "plt.legend(labels = ['AQI', 'Five Day Average'])\n",
    "\n",
    "# Display figure\n",
    "plt.show()"
   ]
  },
  {
   "cell_type": "markdown",
   "metadata": {},
   "source": [
    "Our plot shows a huge spike in both our AQI and five day average. We know this is from the 2017 Thomas Fire. From [Airnow's](https://www.airnow.gov/aqi/aqi-basics/) AQI, we know that healthy, moderate, and unhealthy values range from 0-50, 51-100, and 150-200 respectively. During the 2017 Thomas Fire we see an AQI value reaching over 300 which is the highest level of concern. Values of 300 or more translate to emergency health conditions, where everyone is more than likely to be affected. \n",
    "\n",
    "## Landsat and Fire Perimeter Data\n",
    "\n",
    "#### Fire Perimeter Data Cleaning\n",
    "\n",
    "We have already loaded in our California fire perimeter data. We are interested in looking at the geospatial element of the 2017 Thomas Fire. Like before, we want to explore this data and clean it up. The file that we loaded in was a shapefile, so we expect to see a spatial component. Let's take a look."
   ]
  },
  {
   "cell_type": "code",
   "execution_count": null,
   "metadata": {},
   "outputs": [],
   "source": [
    "# View the variables within our dataframe \n",
    "perimeters.head()"
   ]
  },
  {
   "cell_type": "code",
   "execution_count": null,
   "metadata": {},
   "outputs": [],
   "source": [
    "# Check the crs \n",
    "perimeters.crs"
   ]
  },
  {
   "cell_type": "markdown",
   "metadata": {},
   "source": [
    "There are a number of variables in this geospatial dataframe. We are interested in the perimeter for the 2017 Thomas Fire. So, the columns we need are year, fire name, and it's geometry. From our preliminary exploration, we can see that we have all three of those components. Let's clean up the data and then filter down to the 2017 Thomas Fire. Note that we only need to change the column letters from uppercase to lowercase. They already have `_` instead of spaces. After, we can filter down to the 2017 Thomas Fire."
   ]
  },
  {
   "cell_type": "code",
   "execution_count": null,
   "metadata": {},
   "outputs": [],
   "source": [
    "#| code-fold: true\n",
    "#| code-summary: \"Show the code\"\n",
    "\n",
    "# Select the data frame's columns and lowercase them\n",
    "perimeters.columns = perimeters.columns.str.lower()\n",
    "\n",
    "# Select the Thomas Fire Boundary in 2017\n",
    "thomas_perimeter = perimeters[(perimeters['fire_name'] == 'THOMAS') \n",
    "                              & (perimeters['year_'] == 2017)]"
   ]
  },
  {
   "cell_type": "markdown",
   "metadata": {},
   "source": [
    "### Landsat exploration\n",
    "\n",
    "The landsat data was read in using `open_rasterio` from the `rioxarray` package. The format of this information is different from the `DataFrame` and `GeoSpatialDataFrame` we have seen in the past. We do not need to use any exploratory methods such as `head` and `info`. All of the information is contained within the array. We just need to call the variable to view it. Let's take a look."
   ]
  },
  {
   "cell_type": "code",
   "execution_count": null,
   "metadata": {},
   "outputs": [],
   "source": [
    "# View the dataframe\n",
    "landsat"
   ]
  },
  {
   "cell_type": "markdown",
   "metadata": {},
   "source": [
    "Notice, there are 4 coordinates, consisting of a `band`, `x`, `y`, and `spatial_ref`. There are 5 data variables `red`, `green`, `blue`, `nir08`, and `swir22` that represent band types. There are 3 dimensions `band`, `x`, and `y`. There is also an index consisting of `band`, `x`, and `y`. There are options to show/hide the information contained within the coordinates and variables.\n",
    "\n",
    "## Landsat cleaning\n",
    "\n",
    "Notice that there is only a value of one in the band dimension. Since there is only one band, we do not need to specify it as a dimension. We can filter this out from our array using the following methods."
   ]
  },
  {
   "cell_type": "code",
   "execution_count": null,
   "metadata": {},
   "outputs": [],
   "source": [
    "#| code-fold: true\n",
    "#| code-summary: \"Show the code\"\n",
    "\n",
    "# Drop the `band` coordinate of the data\n",
    "landsat = landsat.drop_vars('band')\n",
    "\n",
    "# Drop the `band` dimension of the data\n",
    "# The code `squeeze` drops dimensions with values of 1 \n",
    "landsat = landsat.squeeze()\n",
    "\n",
    "# Check our array to confirm that `band` has been \n",
    "# removed from the dimensions and coordinates\n",
    "landsat"
   ]
  },
  {
   "cell_type": "markdown",
   "metadata": {},
   "source": [
    "Whenever you are working with spatial data, you always want the CRSs to be the same. Otherwise, the spatial data won't be able to communicate properly with one another. We know that the Thomas Fire is projected to EPSG:3857. Let's reproject our landsat data to the same CRS."
   ]
  },
  {
   "cell_type": "code",
   "execution_count": null,
   "metadata": {},
   "outputs": [],
   "source": [
    "#| code-fold: true\n",
    "#| code-summary: \"Show the code\"\n",
    "\n",
    "# Reproject our landsat data to EPSG:3857\n",
    "landsat = landsat.rio.reproject(\"EPSG:3857\")\n",
    "\n",
    "# Check to see if the CRSs are the same\n",
    "# By using assert we shouldn't see an output\n",
    "assert landsat.rio.crs == thomas_perimeter.crs"
   ]
  },
  {
   "cell_type": "markdown",
   "metadata": {},
   "source": [
    "### Let's create our false color image now\n",
    "\n",
    "To do so we need to change the type of bands that we are plotting. We want to select the short-wave infrared (swir22), near-infrared (nir08), and red bands to the red, green, and blue colors respectively. This will give us our false color image."
   ]
  },
  {
   "cell_type": "code",
   "execution_count": null,
   "metadata": {},
   "outputs": [],
   "source": [
    "#| code-fold: true\n",
    "#| code-summary: \"Show the code\"\n",
    "\n",
    "# Select swir22, nir08, and red as the variables to be plotted \n",
    "landsat[['swir22', 'nir08', 'red']].to_array().plot.imshow(robust = True)"
   ]
  },
  {
   "cell_type": "markdown",
   "metadata": {},
   "source": [
    "## Step 6: Add the Thomas Fire perimeter to our false color image\n",
    "\n",
    "We want to combine our Thomas Fire perimeter with our landsat plot to help us visualize where the fire boundary is. The CRSs are both `EPSG:3857` so they should be able to plot with one another without any problems. The first thing we need to do is assign a variable name to our false color image that we created above. Then, we can plot both maps together.\n",
    "\n",
    "Let's use the Thomas Fire perimeter that we created in the other notebook and add it to the false color image. This will give us an indication of where exactly to look when viewing the map. Remember, when working with spatial data, it is imperative to use the same CRS when comparing data. We know from before that our Thomas Fire data has a CRS of `EPSG:3857`, so let's use this as our base CRS."
   ]
  },
  {
   "cell_type": "code",
   "execution_count": null,
   "metadata": {},
   "outputs": [],
   "source": [
    "#| code-fold: true\n",
    "#| code-summary: \"Show the code\"\n",
    "\n",
    "# Create a variable for the false color image map\n",
    "false_color = landsat[['swir22', 'nir08', 'red']].to_array()\n",
    "\n",
    "# Set up fig and ax\n",
    "fig, ax = plt.subplots()\n",
    "\n",
    "# False color image map\n",
    "false_color.plot.imshow(robust = True, \n",
    "                        ax = ax,\n",
    "                       alpha = 1)\n",
    "\n",
    "# Fire perimeters\n",
    "thomas_perimeter.boundary.plot(ax=ax,\n",
    "                              color = 'darkblue')\n",
    "                             \n",
    "# Add a legend for the fire perimeter\n",
    "ax.legend(labels = ['Thomas Fire Perimeter'])\n",
    "\n",
    "# Add a title \n",
    "plt.title(\"Area burned from the 2017 Thomas Fire in Ventura and Santa Barbara County\")\n",
    "ax.axis('off')\n",
    "\n",
    "# Add footnote citation at the bottom of the figure\n",
    "fig.text(0.5, 0.09, \n",
    "         'Data Source: CAL FIRE via Data.gov &  Microsoft Planetary Computer data catalogue',\n",
    "         ha='center', va='center', fontsize=8, color='black', fontstyle='italic')\n",
    "\n",
    "fig.text(0.395, 0.06, \n",
    "         'Date Accessed: 11/19/24',\n",
    "         ha='right', va='center', fontsize=8, color='black', fontstyle='italic')\n",
    "\n",
    "\n",
    "plt.show()"
   ]
  },
  {
   "cell_type": "markdown",
   "metadata": {},
   "source": [
    "This false color image does a great job of identifying the burned area from the 2017 Thomas Fire, as indicated in red. Having the Thomas Fire boundary layered over top of the image depicts the burned area even more. Remote sensing has become an important part of detecting, monitoring, and acting on wildfire outbreaks. This is just one example of the power that can be harnessed from satellite data.\n",
    "\n",
    "This workflow depicts the area burned and the dramatic increase of PM 2.5 in air quality during the 2017 Thomas Fire."
   ]
  }
 ],
 "metadata": {
  "kernelspec": {
   "display_name": "eds220-env",
   "language": "python",
   "name": "python3"
  },
  "language_info": {
   "codemirror_mode": {
    "name": "ipython",
    "version": 3
   },
   "file_extension": ".py",
   "mimetype": "text/x-python",
   "name": "python",
   "nbconvert_exporter": "python",
   "pygments_lexer": "ipython3",
   "version": "3.11.4"
  }
 },
 "nbformat": 4,
 "nbformat_minor": 4
}
